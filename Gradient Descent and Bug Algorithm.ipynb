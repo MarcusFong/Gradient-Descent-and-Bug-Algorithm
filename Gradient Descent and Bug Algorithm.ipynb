{
 "cells": [
  {
   "cell_type": "markdown",
   "id": "split-quantity",
   "metadata": {},
   "source": [
    "Hello,\n",
    "\n",
    "Below is an implementation of two path finding algorithms in a 2D space around various obstacles. The first implentation uses a bug algorithm while the second utilizes gradient descent to find an optimal path. Scroll down to see my results."
   ]
  },
  {
   "cell_type": "code",
   "execution_count": 1,
   "id": "stuffed-diesel",
   "metadata": {},
   "outputs": [],
   "source": [
    "from mpl_toolkits.mplot3d import Axes3D  # noqa: F401 unused import\n",
    "\n",
    "import matplotlib.pyplot as plt\n",
    "from matplotlib import cm\n",
    "from matplotlib.ticker import LinearLocator, FormatStrFormatter\n",
    "import numpy as np\n",
    "from math import hypot\n",
    "import math\n",
    "from scipy import optimize"
   ]
  },
  {
   "cell_type": "code",
   "execution_count": 2,
   "id": "nervous-cookie",
   "metadata": {},
   "outputs": [],
   "source": [
    "X = np.arange(-10, 10.1, 0.1)\n",
    "Y = np.arange(-10, 10.1, 0.1)\n",
    "#print(X)\n",
    "X, Y = np.meshgrid(X, Y)\n",
    "Q_START = np.array([-9,0])\n",
    "Q_GOAL = np.array([9,0]) \n",
    "\n",
    "def gradient_descent(obstacles, kappa, eps):\n",
    "    \n",
    "    path = []\n",
    "    path.append(Q_START)\n",
    "    q_curr = np.array([-9,0])\n",
    "    curr_gradient = optimize.approx_fprime(q_curr, calculate_potential, eps, kappa)\n",
    "    while np.linalg.norm(curr_gradient) > eps*100:\n",
    "        curr_gradient_hat = curr_gradient / np.linalg.norm(curr_gradient)\n",
    "        q_curr = q_curr - 0.1*curr_gradient_hat\n",
    "        path.append(q_curr)\n",
    "        curr_gradient = optimize.approx_fprime(q_curr, calculate_potential, eps, kappa)\n",
    "\n",
    "    return path\n",
    "\n",
    "#https://www.knowledgehut.com/blog/programming/python-rounding-numbers\n",
    "def round_up(n, decimals=0): \n",
    "    multiplier = 10 ** decimals \n",
    "    return math.ceil(n * multiplier) / multiplier\n",
    "\n",
    "\n",
    "def calculate_potential(q_curr, kappa):\n",
    "    x_cor = q_curr[0]\n",
    "    y_cor = q_curr[1]\n",
    "    config_type = get_config_type(x_cor, y_cor)\n",
    "    if config_type == 3: #on the goal\n",
    "        return 0\n",
    "    elif config_type == 2: #inside obstacle or out of bounds\n",
    "        return 1\n",
    "    \n",
    "    beta = calculate_beta(x_cor, y_cor, obstacles)\n",
    "    phi = calculate_phi(x_cor, y_cor, beta, kappa)\n",
    "    return phi \n",
    "\n",
    "def get_config_type(x_cor, y_cor):\n",
    "    if x_cor ==  Q_GOAL[0] and y_cor == Q_GOAL[1]:\n",
    "        return 3 #cords on the goal\n",
    "    if hypot(x_cor, y_cor) >= 10:\n",
    "        return 2 #cords out of bounds \n",
    "    for obstacle in obstacles:\n",
    "        if hypot(x_cor-obstacle[0][0], y_cor-obstacle[0][1]) < obstacle[1]:\n",
    "            return 2 #cords inside an obstacle\n",
    "    return 1 #cords anywhere else\n",
    "            \n",
    "def calculate_beta(x_cor, y_cor, obstacles):\n",
    "    result = -(hypot(x_cor, y_cor)**2)+10**2\n",
    "    for obstacle in obstacles:\n",
    "        dist_to_obs = abs(hypot(x_cor-obstacle[0][0], y_cor-obstacle[0][1]) - obstacle[1])\n",
    "        result = result*(dist_to_obs**2 - obstacle[1]**2)\n",
    "    return result\n",
    "\n",
    "def calculate_phi(x_cor, y_cor, beta, kappa):\n",
    "    dist_to_goal = abs(hypot(x_cor-Q_GOAL[0], y_cor-Q_GOAL[1]))\n",
    "    denominator = (dist_to_goal**(2*kappa) + beta)**(1/kappa)\n",
    "    return (dist_to_goal**2)/denominator\n",
    "\n",
    "#I didn't end up using this code :(. Can be ignored for 4.2\n",
    "def initialize_potentials(kappa, obstacles):\n",
    "    potentials = np.zeros(shape=(len(X), len(Y)))\n",
    "    for i in range(0, len(potentials)):\n",
    "        for j in range(0, len(potentials[0])):\n",
    "            x_cor = X[i][j]\n",
    "            y_cor = Y[i][j]\n",
    "            potentials[i][j] = calculate_potential((x_cor, y_cor), kappa)\n",
    "    return potentials\n",
    "    "
   ]
  },
  {
   "cell_type": "code",
   "execution_count": 6,
   "id": "satisfactory-trigger",
   "metadata": {},
   "outputs": [],
   "source": [
    "#https://stackoverflow.com/questions/31735499/calculate-angle-clockwise-between-two-points\n",
    "def calculate_obstacle_traversal(obstacle, hit_point, leave_point):\n",
    "    center_x = obstacle[0][0]\n",
    "    center_y = obstacle[0][1]\n",
    "    radius = obstacle[1]\n",
    "    obstacle_traversal = []\n",
    "    angle = np.arctan2(hit_point[1]-center_y, hit_point[0]-center_x)\n",
    "    new_point = (center_x + radius * np.cos(angle), center_y + radius * np.sin(angle))\n",
    "    obstacle_traversal.append(new_point)\n",
    "    is_left = np.random.randint(2)\n",
    "    \n",
    "    while hypot(new_point[0]-leave_point[0], new_point[1]-leave_point[1]) > 0.1:\n",
    "        if is_left == 1:\n",
    "            angle -= np.pi/32\n",
    "        else:\n",
    "            angle += np.pi/32                \n",
    "        new_point = (center_x + radius * np.cos(angle), center_y + radius * np.sin(angle))\n",
    "        obstacle_traversal.append(new_point)\n",
    "        #x0 + d*cos(theta_rad), y0 + d*sin(theta_rad)\n",
    "    \n",
    "    obstacle_traversal.append(leave_point)\n",
    "    return obstacle_traversal\n",
    "    \n",
    "def bug_algorithm(obstacles):\n",
    "    q_start = (-9,0)\n",
    "    q_curr = (-9, 0)\n",
    "    q_goal = (9,0)\n",
    "    obstacle_intersections = []\n",
    "    path = []\n",
    "    \n",
    "    for obstacle in obstacles:\n",
    "        if abs(obstacle[0][1]) < obstacle[1]: #if the y axis is less than the radius, then it intersects\n",
    "            x_away = np.sqrt(obstacle[1]**2 - obstacle[0][1]**2)\n",
    "            hit_point = (obstacle[0][0] - x_away, 0)\n",
    "            leave_point = (obstacle[0][0] + x_away, 0)\n",
    "            obstacle_traversal = calculate_obstacle_traversal(obstacle, hit_point, leave_point)\n",
    "            obstacle_intersections.append(obstacle_traversal)\n",
    "\n",
    "\n",
    "    while hypot(q_curr[0]-q_goal[0], q_curr[1]-q_goal[1]) > 0.1: #stepping through the grid\n",
    "        path.append(q_curr)\n",
    "        q_curr = (q_curr[0]+0.1, q_curr[1])\n",
    "        for obstacle in obstacle_intersections:\n",
    "            if abs(obstacle[0][0] - q_curr[0]) < 0.1:\n",
    "                path.extend(obstacle)\n",
    "                q_curr = path[len(path)-1]\n",
    "                obstacle_intersections.remove(obstacle)\n",
    "                break\n",
    "    \n",
    "    path.append(q_goal)\n",
    "    return path"
   ]
  },
  {
   "cell_type": "markdown",
   "id": "detected-institution",
   "metadata": {},
   "source": [
    "Below is an exmaple of using a simple bug algorithm to traverse the environment. "
   ]
  },
  {
   "cell_type": "code",
   "execution_count": 7,
   "id": "informed-distance",
   "metadata": {},
   "outputs": [
    {
     "data": {
      "image/png": "[encoded data removed]",
      "text/plain": [
       "<Figure size 432x288 with 1 Axes>"
      ]
     },
     "metadata": {
      "needs_background": "light"
     },
     "output_type": "display_data"
    }
   ],
   "source": [
    "figure, axes = plt.subplots()\n",
    "axes.set_aspect(1)\n",
    "plt.plot([-9], [0], 'bo') #start\n",
    "plt.plot([9], [0], 'ro') #end\n",
    "obstacles = [((-5,1),1.5), ((0,-1),2), ((5,1),2)]\n",
    "for obstacle in obstacles:\n",
    "    axes.add_artist(plt.Circle(obstacle[0], obstacle[1]))\n",
    "plt.axis([-10, 10, -10, 10])\n",
    "\n",
    "the_path = bug_algorithm(obstacles)\n",
    "for point in the_path:\n",
    "    plt.scatter(point[0],point[1], alpha=0.5)\n",
    "plt.show()\n"
   ]
  },
  {
   "cell_type": "markdown",
   "id": "latin-medium",
   "metadata": {},
   "source": [
    "Here is an example of the bug using gradient descent to path around the obstacles."
   ]
  },
  {
   "cell_type": "code",
   "execution_count": 3,
   "id": "deluxe-nevada",
   "metadata": {},
   "outputs": [
    {
     "name": "stdout",
     "output_type": "stream",
     "text": [
      "Kappa = 1\n"
     ]
    },
    {
     "data": {
      "image/png": "[encoded data removed]",
      "text/plain": [
       "<Figure size 432x288 with 1 Axes>"
      ]
     },
     "metadata": {
      "needs_background": "light"
     },
     "output_type": "display_data"
    }
   ],
   "source": [
    "obstacles = [((-7,4),1), ((0,-6),1)]\n",
    "#eps taken from https://docs.scipy.org/doc/scipy/reference/generated/scipy.optimize.approx_fprime.html\n",
    "eps = np.sqrt(np.finfo(float).eps)\n",
    "print(\"Kappa = 1\")\n",
    "path = gradient_descent(obstacles, 1, eps)\n",
    "#print(path)\n",
    "\n",
    "figure, axes = plt.subplots()\n",
    "axes.set_aspect(1)\n",
    "plt.plot([-9], [0], 'bo') #start\n",
    "plt.plot([9], [0], 'ro') #end\n",
    "for obstacle in obstacles:\n",
    "    axes.add_artist(plt.Circle(obstacle[0], obstacle[1]))\n",
    "plt.axis([-10, 10, -10, 10])\n",
    "\n",
    "for point in path:\n",
    "    plt.scatter(point[0], point[1], c='g')\n",
    "plt.show()\n"
   ]
  },
  {
   "cell_type": "markdown",
   "id": "presidential-delay",
   "metadata": {},
   "source": [
    "Here is an example of the bug getting stuck in a local minimum. "
   ]
  },
  {
   "cell_type": "code",
   "execution_count": 5,
   "id": "generous-career",
   "metadata": {},
   "outputs": [
    {
     "name": "stdout",
     "output_type": "stream",
     "text": [
      "Kappa = 1\n"
     ]
    },
    {
     "data": {
      "image/png": "[encoded data removed]",
      "text/plain": [
       "<Figure size 432x288 with 1 Axes>"
      ]
     },
     "metadata": {
      "needs_background": "light"
     },
     "output_type": "display_data"
    }
   ],
   "source": [
    "obstacles = [((0,7),1), ((0,-7),1)]\n",
    "#eps taken from https://docs.scipy.org/doc/scipy/reference/generated/scipy.optimize.approx_fprime.html\n",
    "eps = np.sqrt(np.finfo(float).eps)\n",
    "path = gradient_descent(obstacles, 1, eps)\n",
    "print(\"Kappa = 1\")\n",
    "\n",
    "figure, axes = plt.subplots()\n",
    "axes.set_aspect(1)\n",
    "plt.plot([-9], [0], 'bo') #start\n",
    "plt.plot([9], [0], 'ro') #end\n",
    "for obstacle in obstacles:\n",
    "    axes.add_artist(plt.Circle(obstacle[0], obstacle[1]))\n",
    "plt.axis([-10, 10, -10, 10])\n",
    "\n",
    "for point in path:\n",
    "    plt.scatter(point[0], point[1], c='g')\n",
    "plt.plot([-9], [0], 'bo') #start\n",
    "plt.plot([9], [0], 'ro') #end\n",
    "\n",
    "plt.show()"
   ]
  },
  {
   "cell_type": "code",
   "execution_count": null,
   "id": "initial-cannon",
   "metadata": {},
   "outputs": [],
   "source": []
  }
 ],
 "metadata": {
  "kernelspec": {
   "display_name": "Python 3",
   "language": "python",
   "name": "python3"
  },
  "language_info": {
   "codemirror_mode": {
    "name": "ipython",
    "version": 3
   },
   "file_extension": ".py",
   "mimetype": "text/x-python",
   "name": "python",
   "nbconvert_exporter": "python",
   "pygments_lexer": "ipython3",
   "version": "3.8.5"
  }
 },
 "nbformat": 4,
 "nbformat_minor": 5
}
